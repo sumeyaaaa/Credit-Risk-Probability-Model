{
 "cells": [
  {
   "cell_type": "code",
   "execution_count": 1,
   "id": "ae6b5e80",
   "metadata": {},
   "outputs": [
    {
     "name": "stderr",
     "output_type": "stream",
     "text": [
      "C:\\Users\\ABC\\AppData\\Local\\Temp\\ipykernel_16292\\506102746.py:12: FutureWarning: ``mlflow.tracking.client.MlflowClient.transition_model_version_stage`` is deprecated since 2.9.0. Model registry stages will be removed in a future major release. To learn more about the deprecation of model registry stages, see our migration guide here: https://mlflow.org/docs/latest/model-registry.html#migrating-from-stages\n",
      "  client.transition_model_version_stage(\n"
     ]
    },
    {
     "data": {
      "text/plain": [
       "<ModelVersion: aliases=[], creation_timestamp=1751283921891, current_stage='Staging', deployment_job_state=None, description=None, last_updated_timestamp=1751283921936, metrics=None, model_id=None, name='best_model', params=None, run_id='<your_run_id>', run_link=None, source='runs:/<your_run_id>/model', status='READY', status_message=None, tags={}, user_id=None, version=1>"
      ]
     },
     "execution_count": 1,
     "metadata": {},
     "output_type": "execute_result"
    }
   ],
   "source": [
    "from mlflow.tracking import MlflowClient\n",
    "\n",
    "client = MlflowClient()\n",
    "\n",
    "run_id = \"<your_run_id>\"  # Run where model was logged\n",
    "model_uri = f\"runs:/{run_id}/model\"\n",
    "\n",
    "model_details = client.create_registered_model(\"best_model\")  # Create model in registry if not exists\n",
    "mv = client.create_model_version(\"best_model\", model_uri, run_id)\n",
    "\n",
    "# Transition to staging\n",
    "client.transition_model_version_stage(\n",
    "    name=\"best_model\",\n",
    "    version=mv.version,\n",
    "    stage=\"Staging\"\n",
    ")\n"
   ]
  },
  {
   "cell_type": "code",
   "execution_count": 5,
   "id": "5a4642cb",
   "metadata": {},
   "outputs": [
    {
     "name": "stdout",
     "output_type": "stream",
     "text": [
      "[<ModelVersion: aliases=[], creation_timestamp=1751336471270, current_stage='Staging', deployment_job_state=None, description=None, last_updated_timestamp=1751336471924, metrics=[], model_id='m-4eb2843bda5d4e60b07f3a7e2dbc78cf', name='credit-risk-model', params={}, run_id='4d40cba2b1ef4491813380e7a40eb4f9', run_link=None, source='models:/m-4eb2843bda5d4e60b07f3a7e2dbc78cf', status='READY', status_message=None, tags={}, user_id=None, version=1>]\n"
     ]
    },
    {
     "name": "stderr",
     "output_type": "stream",
     "text": [
      "C:\\Users\\ABC\\AppData\\Local\\Temp\\ipykernel_12312\\1572118651.py:9: FutureWarning: ``mlflow.tracking.client.MlflowClient.get_latest_versions`` is deprecated since 2.9.0. Model registry stages will be removed in a future major release. To learn more about the deprecation of model registry stages, see our migration guide here: https://mlflow.org/docs/latest/model-registry.html#migrating-from-stages\n",
      "  versions = client.get_latest_versions(\"credit-risk-model\")\n"
     ]
    }
   ],
   "source": [
    "import mlflow\n",
    "from mlflow.tracking import MlflowClient\n",
    "\n",
    "# Set tracking URI to point to your local mlruns folder\n",
    "mlflow.set_tracking_uri(\"file:///C:/Users/ABC/Desktop/10Acadamy/Week 5/Credit-Risk-Probability-Model/src/model/mlruns\")\n",
    "\n",
    "client = MlflowClient()\n",
    "try:\n",
    "    versions = client.get_latest_versions(\"credit-risk-model\")\n",
    "    print(versions)\n",
    "except Exception as e:\n",
    "    print(\"Model not found or no versions:\", e)\n",
    "\n"
   ]
  },
  {
   "cell_type": "code",
   "execution_count": 6,
   "id": "e43e31b8",
   "metadata": {},
   "outputs": [
    {
     "name": "stderr",
     "output_type": "stream",
     "text": [
      "C:\\Users\\ABC\\AppData\\Local\\Temp\\ipykernel_12312\\77176695.py:3: FutureWarning: ``mlflow.tracking.client.MlflowClient.get_latest_versions`` is deprecated since 2.9.0. Model registry stages will be removed in a future major release. To learn more about the deprecation of model registry stages, see our migration guide here: https://mlflow.org/docs/latest/model-registry.html#migrating-from-stages\n",
      "  versions = client.get_latest_versions(\"credit-risk-model\")\n"
     ]
    },
    {
     "name": "stdout",
     "output_type": "stream",
     "text": [
      "Model versions found: [<ModelVersion: aliases=[], creation_timestamp=1751336471270, current_stage='Staging', deployment_job_state=None, description=None, last_updated_timestamp=1751336471924, metrics=[], model_id='m-4eb2843bda5d4e60b07f3a7e2dbc78cf', name='credit-risk-model', params={}, run_id='4d40cba2b1ef4491813380e7a40eb4f9', run_link=None, source='models:/m-4eb2843bda5d4e60b07f3a7e2dbc78cf', status='READY', status_message=None, tags={}, user_id=None, version=1>]\n",
      "Loading model from: C:\\Users\\ABC\\Desktop\\10Acadamy\\Week 5\\Credit-Risk-Probability-Model\\src\\model\\mlruns\\0\\models\\m-4eb2843bda5d4e60b07f3a7e2dbc78cf\\artifacts\\artifacts\\model.pkl\n"
     ]
    },
    {
     "name": "stderr",
     "output_type": "stream",
     "text": [
      "c:\\Users\\ABC\\Desktop\\10Acadamy\\Week 5\\Credit-Risk-Probability-Model\\env\\Lib\\site-packages\\sklearn\\base.py:440: InconsistentVersionWarning: Trying to unpickle estimator DecisionTreeClassifier from version 1.6.1 when using version 1.7.0. This might lead to breaking code or invalid results. Use at your own risk. For more info please refer to:\n",
      "https://scikit-learn.org/stable/model_persistence.html#security-maintainability-limitations\n",
      "  warnings.warn(\n",
      "c:\\Users\\ABC\\Desktop\\10Acadamy\\Week 5\\Credit-Risk-Probability-Model\\env\\Lib\\site-packages\\sklearn\\base.py:440: InconsistentVersionWarning: Trying to unpickle estimator RandomForestClassifier from version 1.6.1 when using version 1.7.0. This might lead to breaking code or invalid results. Use at your own risk. For more info please refer to:\n",
      "https://scikit-learn.org/stable/model_persistence.html#security-maintainability-limitations\n",
      "  warnings.warn(\n"
     ]
    },
    {
     "name": "stdout",
     "output_type": "stream",
     "text": [
      "Model loaded successfully.\n"
     ]
    }
   ],
   "source": [
    "# Check if the model exists\n",
    "try:\n",
    "    versions = client.get_latest_versions(\"credit-risk-model\")\n",
    "    print(\"Model versions found:\", versions)\n",
    "except Exception as e:\n",
    "    print(\"Error fetching model versions:\", e)\n",
    "\n",
    "# Load model from MLflow Model Registry (Staging version)\n",
    "try:\n",
    "    model = mlflow.pyfunc.load_model(\"models:/credit-risk-model/Staging\")\n",
    "    print(\"Model loaded successfully.\")\n",
    "except Exception as e:\n",
    "    print(\"Error loading model:\", e)"
   ]
  },
  {
   "cell_type": "code",
   "execution_count": 10,
   "id": "06a72fc9",
   "metadata": {},
   "outputs": [
    {
     "name": "stdout",
     "output_type": "stream",
     "text": [
      "Version: 1, Stage: Staging\n"
     ]
    }
   ],
   "source": [
    "from mlflow.tracking import MlflowClient\n",
    "import mlflow\n",
    "from mlflow.tracking import MlflowClient\n",
    "# Set tracking URI to point to your local mlruns folder\n",
    "mlflow.set_tracking_uri(\"file:///C:/Users/ABC/Desktop/10Acadamy/Week 5/Credit-Risk-Probability-Model/src/model/mlruns\")\n",
    "\n",
    "client = MlflowClient()\n",
    "model_name = \"credit-risk-model\"\n",
    "model_versions = client.get_registered_model(model_name)\n",
    "\n",
    "# Print details about the model versions\n",
    "for version in model_versions.latest_versions:\n",
    "    print(f\"Version: {version.version}, Stage: {version.current_stage}\")"
   ]
  }
 ],
 "metadata": {
  "kernelspec": {
   "display_name": "env",
   "language": "python",
   "name": "python3"
  },
  "language_info": {
   "codemirror_mode": {
    "name": "ipython",
    "version": 3
   },
   "file_extension": ".py",
   "mimetype": "text/x-python",
   "name": "python",
   "nbconvert_exporter": "python",
   "pygments_lexer": "ipython3",
   "version": "3.13.2"
  }
 },
 "nbformat": 4,
 "nbformat_minor": 5
}
